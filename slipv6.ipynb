{
 "cells": [
  {
   "cell_type": "code",
   "execution_count": 2,
   "metadata": {
    "colab": {
     "base_uri": "https://localhost:8080/",
     "height": 423
    },
    "id": "mAUPcdfn_7ZF",
    "outputId": "10d34f9d-0376-43e0-c48a-af1daf5dafa3"
   },
   "outputs": [
    {
     "data": {
      "text/html": [
       "<div>\n",
       "<style scoped>\n",
       "    .dataframe tbody tr th:only-of-type {\n",
       "        vertical-align: middle;\n",
       "    }\n",
       "\n",
       "    .dataframe tbody tr th {\n",
       "        vertical-align: top;\n",
       "    }\n",
       "\n",
       "    .dataframe thead th {\n",
       "        text-align: right;\n",
       "    }\n",
       "</style>\n",
       "<table border=\"1\" class=\"dataframe\">\n",
       "  <thead>\n",
       "    <tr style=\"text-align: right;\">\n",
       "      <th></th>\n",
       "      <th>ip_range</th>\n",
       "      <th>country code</th>\n",
       "      <th>region_code</th>\n",
       "      <th>city</th>\n",
       "      <th>Unnamed: 4</th>\n",
       "    </tr>\n",
       "  </thead>\n",
       "  <tbody>\n",
       "    <tr>\n",
       "      <th>1731</th>\n",
       "      <td>2a0d:3340:f400::/38</td>\n",
       "      <td>DE</td>\n",
       "      <td>DE-BE</td>\n",
       "      <td>Berlin</td>\n",
       "      <td>NaN</td>\n",
       "    </tr>\n",
       "    <tr>\n",
       "      <th>1732</th>\n",
       "      <td>2406:2d40:2000::/40</td>\n",
       "      <td>AU</td>\n",
       "      <td>AU-WA</td>\n",
       "      <td>Perth</td>\n",
       "      <td>NaN</td>\n",
       "    </tr>\n",
       "    <tr>\n",
       "      <th>1733</th>\n",
       "      <td>2406:2d40:3000::/40</td>\n",
       "      <td>JP</td>\n",
       "      <td>JP-13</td>\n",
       "      <td>Tokyo</td>\n",
       "      <td>NaN</td>\n",
       "    </tr>\n",
       "    <tr>\n",
       "      <th>1734</th>\n",
       "      <td>2406:2d40:3300::/40</td>\n",
       "      <td>MN</td>\n",
       "      <td>MN-1</td>\n",
       "      <td>Ulaanbaatar</td>\n",
       "      <td>NaN</td>\n",
       "    </tr>\n",
       "    <tr>\n",
       "      <th>1735</th>\n",
       "      <td>2406:2d40:3400::/40</td>\n",
       "      <td>PH</td>\n",
       "      <td>PH-00</td>\n",
       "      <td>Manila</td>\n",
       "      <td>NaN</td>\n",
       "    </tr>\n",
       "    <tr>\n",
       "      <th>...</th>\n",
       "      <td>...</td>\n",
       "      <td>...</td>\n",
       "      <td>...</td>\n",
       "      <td>...</td>\n",
       "      <td>...</td>\n",
       "    </tr>\n",
       "    <tr>\n",
       "      <th>2213</th>\n",
       "      <td>2605:59c7:f009::/48</td>\n",
       "      <td>US</td>\n",
       "      <td>US-TX</td>\n",
       "      <td>Starbase</td>\n",
       "      <td>NaN</td>\n",
       "    </tr>\n",
       "    <tr>\n",
       "      <th>2214</th>\n",
       "      <td>2605:59c7:f080::/48</td>\n",
       "      <td>US</td>\n",
       "      <td>US-FL</td>\n",
       "      <td>Miami</td>\n",
       "      <td>NaN</td>\n",
       "    </tr>\n",
       "    <tr>\n",
       "      <th>2215</th>\n",
       "      <td>2605:59c7:f081::/48</td>\n",
       "      <td>US</td>\n",
       "      <td>US-FL</td>\n",
       "      <td>Miami</td>\n",
       "      <td>NaN</td>\n",
       "    </tr>\n",
       "    <tr>\n",
       "      <th>2216</th>\n",
       "      <td>2605:59c7:f0c0::/48</td>\n",
       "      <td>US</td>\n",
       "      <td>US-FL</td>\n",
       "      <td>Miami</td>\n",
       "      <td>NaN</td>\n",
       "    </tr>\n",
       "    <tr>\n",
       "      <th>2217</th>\n",
       "      <td>2605:59c7:f0c1::/48</td>\n",
       "      <td>PG</td>\n",
       "      <td>PG-NIK</td>\n",
       "      <td>Londolovit</td>\n",
       "      <td>NaN</td>\n",
       "    </tr>\n",
       "  </tbody>\n",
       "</table>\n",
       "<p>487 rows × 5 columns</p>\n",
       "</div>"
      ],
      "text/plain": [
       "                 ip_range country code region_code         city  Unnamed: 4\n",
       "1731  2a0d:3340:f400::/38           DE       DE-BE       Berlin         NaN\n",
       "1732  2406:2d40:2000::/40           AU       AU-WA        Perth         NaN\n",
       "1733  2406:2d40:3000::/40           JP       JP-13        Tokyo         NaN\n",
       "1734  2406:2d40:3300::/40           MN        MN-1  Ulaanbaatar         NaN\n",
       "1735  2406:2d40:3400::/40           PH       PH-00       Manila         NaN\n",
       "...                   ...          ...         ...          ...         ...\n",
       "2213  2605:59c7:f009::/48           US       US-TX     Starbase         NaN\n",
       "2214  2605:59c7:f080::/48           US       US-FL        Miami         NaN\n",
       "2215  2605:59c7:f081::/48           US       US-FL        Miami         NaN\n",
       "2216  2605:59c7:f0c0::/48           US       US-FL        Miami         NaN\n",
       "2217  2605:59c7:f0c1::/48           PG      PG-NIK   Londolovit         NaN\n",
       "\n",
       "[487 rows x 5 columns]"
      ]
     },
     "execution_count": 2,
     "metadata": {},
     "output_type": "execute_result"
    }
   ],
   "source": [
    "# prompt: open this in pandas https://raw.githubusercontent.com/Jackbaude/slipv6/refs/heads/main/pops.csv\n",
    "\n",
    "import pandas as pd\n",
    "import numpy as np\n",
    "import matplotlib.pyplot as plt\n",
    "from ipaddress import IPv6Network, IPv4Network, IPv4Address\n",
    "\n",
    "pops_url = \"https://raw.githubusercontent.com/Jackbaude/slipv6/refs/heads/main/pops.csv\"\n",
    "geoip_url = \"https://raw.githubusercontent.com/Jackbaude/slipv6/refs/heads/main/geoipstarlink.csv\"\n",
    "\n",
    "pops_df = pd.read_csv(pops_url)\n",
    "geoip_df = pd.read_csv(geoip_url);\n",
    "\n",
    "ipv4_df = geoip_df[geoip_df['ip_range'].str.contains(r'\\.')]\n",
    "ipv6_df = geoip_df[geoip_df['ip_range'].str.contains(r'\\:')]\n",
    "\n",
    "ipv4_df\n",
    "ipv6_df"
   ]
  },
  {
   "cell_type": "code",
   "execution_count": 3,
   "metadata": {
    "id": "bDkSgMrNAz4S"
   },
   "outputs": [],
   "source": [
    "def generate_starlink_addresses(prefixes, subprefix_length=56):\n",
    "    \"\"\"\n",
    "    Generate IPv6 addresses for the given prefixes and return them as a list.\n",
    "    :param prefixes: List of base prefixes (e.g., ['2605:59ca:1300::/40'])\n",
    "    :param subprefix_length: Subnet size to enumerate (default is /56)\n",
    "    :return: List of generated IPv6 addresses\n",
    "    \"\"\"\n",
    "    addresses = []\n",
    "    for base_prefix in prefixes:\n",
    "        base_network = IPv6Network(base_prefix)\n",
    "        print(f\"Generating addresses for {base_prefix}\")\n",
    "        # Generate all /56 sub-prefixes\n",
    "        for subprefix in base_network.subnets(new_prefix=subprefix_length):\n",
    "            # Fix the 57th to 127th bits to 0, 128th bit to 1\n",
    "            addr = f\"{subprefix.network_address}1\"\n",
    "            addresses.append(addr)\n",
    "    return addresses\n",
    "\n"
   ]
  },
  {
   "cell_type": "code",
   "execution_count": 4,
   "metadata": {
    "colab": {
     "base_uri": "https://localhost:8080/"
    },
    "id": "8Fy5-s5rXgy_",
    "outputId": "3602ff87-150d-46f9-c9ba-1d399e8ad835"
   },
   "outputs": [
    {
     "name": "stdout",
     "output_type": "stream",
     "text": [
      "Generating addresses for 2605:59ca:1300::/40\n",
      "Generating addresses for 2605:59ca:1600::/40\n"
     ]
    }
   ],
   "source": [
    "# Extract IPv6 prefixes from the DataFrame\n",
    "ipv6_prefixes = ipv6_df['ip_range'].tolist()[:5]\n",
    "\n",
    "prefixes = ['2605:59ca:1300::/40', '2605:59ca:1600::/40']\n",
    "\n",
    "# Generate all possible IPv6 addresses\n",
    "all_ipv6_addresses = generate_starlink_addresses(prefixes)\n",
    "\n",
    "# write these ip addrs to a file\n",
    "with open('addresses.txt', 'w') as f:\n",
    "    for ip in all_ipv6_addresses:\n",
    "        f.write(ip + '\\n')"
   ]
  },
  {
   "cell_type": "code",
   "execution_count": 6,
   "metadata": {
    "colab": {
     "base_uri": "https://localhost:8080/"
    },
    "id": "Rc0AQH7zYuCM",
    "outputId": "27c528cd-cdac-491a-cb0e-d39a54e8c9a5"
   },
   "outputs": [
    {
     "name": "stdout",
     "output_type": "stream",
     "text": [
      "\u001b[34mJan 23 21:07:08.029 [DEBUG] xmap: xmap main thread started\n",
      "\u001b[0m\u001b[34mJan 23 21:07:08.029 [DEBUG] xmap: loaded configuration file /etc/xmap/xmap.conf\n",
      "\u001b[0m\u001b[34mJan 23 21:07:08.029 [DEBUG] xmap: syslog support enabled\n",
      "\u001b[0m\u001b[34mJan 23 21:07:08.029 [DEBUG] xmap: no `-6'|`-4' flag given, default select to send ipv6 packet\n",
      "\u001b[0m\u001b[34mJan 23 21:07:08.029 [DEBUG] xmap: no `-x|--max-len=' given, default select to scan all /32 for ipv6\n",
      "\u001b[0m\u001b[34mJan 23 21:07:08.029 [DEBUG] xmap: no output module provided. will use `csv'.\n",
      "\u001b[0m\u001b[34mJan 23 21:07:08.029 [DEBUG] xmap: no probe module provided. will use `icmp_echo'.\n",
      "\u001b[0m\u001b[34mJan 23 21:07:08.029 [DEBUG] xmap: no iid module provided. will use `low'.\n",
      "\u001b[0m\u001b[34mJan 23 21:07:08.029 [DEBUG] xmap: probe module does not supply application success field.\n",
      "\u001b[0m\u001b[34mJan 23 21:07:08.029 [DEBUG] xmap: requested output field (0): saddr\n",
      "\u001b[0m\u001b[34mJan 23 21:07:08.029 [DEBUG] xmap: no output filter specified. will use default: exclude duplicates and unssuccessful\n",
      "\u001b[0m\u001b[34mJan 23 21:07:08.030 [DEBUG] blocklist: IPv6_MAX_PREFIX_LEN=128\n",
      "\u001b[0m\u001b[34mJan 23 21:07:08.030 [DEBUG] blocklist: IPVX_MAX_PREFIX_LEN=32\n",
      "\u001b[0m\u001b[34mJan 23 21:07:08.030 [DEBUG] blocklist: PORT_MAX_BITS=0\n",
      "\u001b[0m\u001b[34mJan 23 21:07:08.030 [DEBUG] blocklist: INDEX_MAX_BITS=0\n",
      "\u001b[0m\u001b[34mJan 23 21:07:08.030 [DEBUG] blocklist: max blocklist len=32\n",
      "\u001b[0m\u001b[34mJan 23 21:07:08.030 [DEBUG] constraint: initializing for IPvX, max-len=32\n",
      "\u001b[0m\u001b[34mJan 23 21:07:08.030 [DEBUG] constraint: calculating mask for IPvX, max-len=32\n",
      "\u001b[0m\u001b[34mJan 23 21:07:08.030 [DEBUG] constraint: IPvX_MAX_PREFIX_LEN: 32\n",
      "\u001b[0m\u001b[34mJan 23 21:07:08.030 [DEBUG] constraint: IPvX_HALF_INDEX: 2^31 = 2147483648\n",
      "\u001b[0m\u001b[34mJan 23 21:07:08.030 [DEBUG] constraint: IPvX_MAX_INDEX: 2^32 = 4294967296\n",
      "\u001b[0m\u001b[34mJan 23 21:07:08.030 [DEBUG] constraint: IPvX RADIX_LENGTH: 20, RADIX_SIZE: 2^12 = 4096\n",
      "\u001b[0m\u001b[34mJan 23 21:07:08.030 [DEBUG] blocklist: blocklisting: all /32+0(port)+0(index)\n",
      "\u001b[0m\u001b[34mJan 23 21:07:08.030 [DEBUG] blocklist: allowlisting from input\n",
      "Segmentation fault (core dumped)BUG] blocklist: \n"
     ]
    }
   ],
   "source": [
    "# Step 2: Use nmap to scan the addresses\n",
    "!xmap -v -6 -iL addresses.txt -oN starlink_scan_results.txt"
   ]
  },
  {
   "cell_type": "code",
   "execution_count": null,
   "metadata": {},
   "outputs": [],
   "source": []
  }
 ],
 "metadata": {
  "colab": {
   "authorship_tag": "ABX9TyPuNU9N0KzAl6T+EXPqB+Aq",
   "include_colab_link": true,
   "provenance": []
  },
  "kernelspec": {
   "display_name": "Python 3 (ipykernel)",
   "language": "python",
   "name": "python3"
  },
  "language_info": {
   "codemirror_mode": {
    "name": "ipython",
    "version": 3
   },
   "file_extension": ".py",
   "mimetype": "text/x-python",
   "name": "python",
   "nbconvert_exporter": "python",
   "pygments_lexer": "ipython3",
   "version": "3.12.3"
  }
 },
 "nbformat": 4,
 "nbformat_minor": 4
}
